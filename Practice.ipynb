{
 "cells": [
  {
   "cell_type": "markdown",
   "id": "6c9b8dd1",
   "metadata": {},
   "source": [
    "## ALGORITHMS __ "
   ]
  },
  {
   "cell_type": "markdown",
   "id": "5021d4e9",
   "metadata": {},
   "source": [
    "** BINARY SEARCH"
   ]
  },
  {
   "cell_type": "markdown",
   "id": "7048f62d",
   "metadata": {},
   "source": [
    "a= list of figures\n",
    "\n",
    "adjust lower bound and upper bound based on finding the search -- divide and search"
   ]
  },
  {
   "cell_type": "code",
   "execution_count": 137,
   "id": "cf3da72c",
   "metadata": {},
   "outputs": [],
   "source": [
    "## Jump Search\n",
    "\n",
    "go over the alter"
   ]
  },
  {
   "cell_type": "code",
   "execution_count": 162,
   "id": "ab516f81",
   "metadata": {},
   "outputs": [],
   "source": [
    "a= [0, 1, 1, 2, 3, 5, 8, 13, 21, 34, 55, 89, 144, 233, 377, 610]"
   ]
  },
  {
   "cell_type": "code",
   "execution_count": 164,
   "id": "638f3b7f",
   "metadata": {},
   "outputs": [],
   "source": [
    "val = 2"
   ]
  },
  {
   "cell_type": "code",
   "execution_count": 165,
   "id": "32f030a8",
   "metadata": {},
   "outputs": [],
   "source": [
    "l=0\n",
    "\n",
    "for l in range(0,len(a),4):\n",
    "    if a[l] == val:\n",
    "        print('the search index is ',l)\n",
    "    elif a[l]<val:\n",
    "        x_lower = l\n",
    "    else:\n",
    "        x_upper = l\n",
    "        break\n",
    "    "
   ]
  },
  {
   "cell_type": "code",
   "execution_count": 166,
   "id": "f977c163",
   "metadata": {
    "scrolled": true
   },
   "outputs": [
    {
     "data": {
      "text/plain": [
       "[0, 1, 1, 2]"
      ]
     },
     "execution_count": 166,
     "metadata": {},
     "output_type": "execute_result"
    }
   ],
   "source": [
    "a[x_lower:x_upper]"
   ]
  },
  {
   "cell_type": "code",
   "execution_count": 156,
   "id": "b1cf3c40",
   "metadata": {
    "scrolled": false
   },
   "outputs": [
    {
     "name": "stdout",
     "output_type": "stream",
     "text": [
      "21\n",
      "34\n",
      "55\n",
      "the search index is  55\n",
      "89\n"
     ]
    }
   ],
   "source": [
    "for j in a[x_lower:x_upper]:\n",
    "    print(j)\n",
    "    if j == val:\n",
    "        print('the search index is ',j)"
   ]
  },
  {
   "cell_type": "code",
   "execution_count": null,
   "id": "907a718c",
   "metadata": {},
   "outputs": [],
   "source": [
    "##Exponential search -- same as Jump Search, instead of Linear its Binomial Search\n",
    "##Interpolation search -- finding position wrt the value as per y=mx+c formula "
   ]
  },
  {
   "cell_type": "code",
   "execution_count": null,
   "id": "eb32a953",
   "metadata": {},
   "outputs": [],
   "source": []
  },
  {
   "cell_type": "code",
   "execution_count": 167,
   "id": "358ce845",
   "metadata": {},
   "outputs": [],
   "source": [
    "## Selection Sort:\n",
    "##-- select minimum in the list and position in front of row : repeat for others as well"
   ]
  },
  {
   "cell_type": "code",
   "execution_count": 82,
   "id": "61eb8024",
   "metadata": {},
   "outputs": [],
   "source": [
    "a=[60,12,11,1,22,11]"
   ]
  },
  {
   "cell_type": "code",
   "execution_count": 69,
   "id": "8e9fc788",
   "metadata": {},
   "outputs": [],
   "source": [
    "def fixing(i):\n",
    "    min_pos = i\n",
    "    for j in range(i,len(a)):\n",
    "#         print(j)\n",
    "        if a[min_pos] > a[j]:\n",
    "            min_pos = j\n",
    "#             print(min_pos,'\\n')\n",
    "        a[i],a[min_pos] = a[min_pos],a[i]\n",
    "    print(a)"
   ]
  },
  {
   "cell_type": "code",
   "execution_count": 72,
   "id": "200965fa",
   "metadata": {
    "scrolled": true
   },
   "outputs": [
    {
     "name": "stdout",
     "output_type": "stream",
     "text": [
      "[1, 11, 11, 22, 12, 60]\n",
      "[1, 11, 11, 22, 12, 60]\n",
      "[1, 11, 11, 22, 12, 60]\n",
      "[1, 11, 11, 22, 12, 60]\n",
      "[1, 11, 11, 22, 12, 60]\n",
      "[1, 11, 11, 22, 12, 60]\n",
      "[1, 11, 11, 22, 12, 60]\n"
     ]
    }
   ],
   "source": [
    "i=0\n",
    "while i<=len(a):\n",
    "    fixing(i)\n",
    "    i+=1"
   ]
  },
  {
   "cell_type": "code",
   "execution_count": null,
   "id": "c7990aae",
   "metadata": {},
   "outputs": [],
   "source": []
  },
  {
   "cell_type": "code",
   "execution_count": 146,
   "id": "82bddf7c",
   "metadata": {},
   "outputs": [],
   "source": [
    "## Bubble Sort:\n",
    "## -- swapping the adjacent elements untill its sorted"
   ]
  },
  {
   "cell_type": "code",
   "execution_count": 164,
   "id": "1f6afeff",
   "metadata": {},
   "outputs": [],
   "source": [
    "a=[1,1,3,4,5]"
   ]
  },
  {
   "cell_type": "code",
   "execution_count": 165,
   "id": "b1200c59",
   "metadata": {},
   "outputs": [],
   "source": [
    "n=0\n",
    "while n<=len(a):\n",
    "    swap = False\n",
    "    for i in range(len(a)-1):\n",
    "        if a[i+1] < a[i]:\n",
    "            a[i], a[i+1] = a[i+1],a[i]\n",
    "            swap = True\n",
    "    if swap==False:\n",
    "        break\n",
    "    n+=1"
   ]
  },
  {
   "cell_type": "code",
   "execution_count": 166,
   "id": "48bf8a00",
   "metadata": {
    "scrolled": true
   },
   "outputs": [
    {
     "data": {
      "text/plain": [
       "[1, 1, 3, 4, 5]"
      ]
     },
     "execution_count": 166,
     "metadata": {},
     "output_type": "execute_result"
    }
   ],
   "source": [
    "a"
   ]
  },
  {
   "cell_type": "code",
   "execution_count": 169,
   "id": "dcd42775",
   "metadata": {},
   "outputs": [],
   "source": [
    "##merge sort -- break up, sort the elements...\n",
    "##join the elements -- comparing 1st element of block and attaching to temp array ?? imp step"
   ]
  },
  {
   "cell_type": "code",
   "execution_count": 181,
   "id": "deade7ce",
   "metadata": {},
   "outputs": [],
   "source": [
    "def mergeSort(arr):\n",
    "    if len(arr) > 1:\n",
    "  \n",
    "         # Finding the mid of the array\n",
    "        mid = len(arr)//2\n",
    "        \n",
    "        # Dividing the array elements\n",
    "        L = arr[:mid]\n",
    "  \n",
    "        # into 2 halves\n",
    "        R = arr[mid:]\n",
    "  \n",
    "        # Sorting the first half\n",
    "        print(L)\n",
    "        mergeSort(L)\n",
    "        print(R)\n",
    "        # Sorting the second half\n",
    "        mergeSort(R)\n",
    "  \n",
    "        i = j = k = 0\n",
    "  \n",
    "        # Copy data to temp arrays L[] and R[]\n",
    "        while i < len(L) and j < len(R):\n",
    "            print('\\n')\n",
    "            print(arr)\n",
    "            if L[i] < R[j]:\n",
    "                arr[k] = L[i]\n",
    "                i += 1\n",
    "            else:\n",
    "                arr[k] = R[j]\n",
    "                j += 1\n",
    "            k += 1\n",
    "  \n",
    "        # Checking if any element was left\n",
    "        while i < len(L):\n",
    "            arr[k] = L[i]\n",
    "            i += 1\n",
    "            k += 1\n",
    "  \n",
    "        while j < len(R):\n",
    "            arr[k] = R[j]\n",
    "            j += 1\n",
    "            k += 1"
   ]
  },
  {
   "cell_type": "code",
   "execution_count": 182,
   "id": "25242cd7",
   "metadata": {},
   "outputs": [],
   "source": [
    "x = [4,2,4,1,3,8,7,0,9]"
   ]
  },
  {
   "cell_type": "code",
   "execution_count": 183,
   "id": "9ea126e2",
   "metadata": {
    "scrolled": true
   },
   "outputs": [
    {
     "name": "stdout",
     "output_type": "stream",
     "text": [
      "[4, 2, 4, 1]\n",
      "[4, 2]\n",
      "[4]\n",
      "[2]\n",
      "\n",
      "\n",
      "[4, 2]\n",
      "[4, 1]\n",
      "[4]\n",
      "[1]\n",
      "\n",
      "\n",
      "[4, 1]\n",
      "\n",
      "\n",
      "[4, 2, 4, 1]\n",
      "\n",
      "\n",
      "[1, 2, 4, 1]\n",
      "\n",
      "\n",
      "[1, 2, 4, 1]\n",
      "[3, 8, 7, 0, 9]\n",
      "[3, 8]\n",
      "[3]\n",
      "[8]\n",
      "\n",
      "\n",
      "[3, 8]\n",
      "[7, 0, 9]\n",
      "[7]\n",
      "[0, 9]\n",
      "[0]\n",
      "[9]\n",
      "\n",
      "\n",
      "[0, 9]\n",
      "\n",
      "\n",
      "[7, 0, 9]\n",
      "\n",
      "\n",
      "[0, 0, 9]\n",
      "\n",
      "\n",
      "[3, 8, 7, 0, 9]\n",
      "\n",
      "\n",
      "[0, 8, 7, 0, 9]\n",
      "\n",
      "\n",
      "[0, 3, 7, 0, 9]\n",
      "\n",
      "\n",
      "[0, 3, 7, 0, 9]\n",
      "\n",
      "\n",
      "[4, 2, 4, 1, 3, 8, 7, 0, 9]\n",
      "\n",
      "\n",
      "[0, 2, 4, 1, 3, 8, 7, 0, 9]\n",
      "\n",
      "\n",
      "[0, 1, 4, 1, 3, 8, 7, 0, 9]\n",
      "\n",
      "\n",
      "[0, 1, 2, 1, 3, 8, 7, 0, 9]\n",
      "\n",
      "\n",
      "[0, 1, 2, 3, 3, 8, 7, 0, 9]\n",
      "\n",
      "\n",
      "[0, 1, 2, 3, 4, 8, 7, 0, 9]\n"
     ]
    }
   ],
   "source": [
    "mergeSort(x)"
   ]
  },
  {
   "cell_type": "code",
   "execution_count": null,
   "id": "47070a8e",
   "metadata": {},
   "outputs": [],
   "source": []
  },
  {
   "cell_type": "code",
   "execution_count": 6,
   "id": "e1718112",
   "metadata": {},
   "outputs": [],
   "source": [
    "def partition(start, end, array):\n",
    "    pivot_index = start\n",
    "    pivot = array[pivot_index]\n",
    "     \n",
    "    # This loop runs till start pointer crosses\n",
    "    # end pointer, and when it does we swap the\n",
    "    # pivot with element on end pointer\n",
    "    while start < end:\n",
    "         \n",
    "        # Increment the start pointer till it finds an\n",
    "        # element greater than  pivot\n",
    "        while start < len(array) and array[start] <= pivot:\n",
    "            start += 1\n",
    "             \n",
    "        # Decrement the end pointer till it finds an\n",
    "        # element less than pivot\n",
    "        while array[end] > pivot:\n",
    "            end -= 1\n",
    "         \n",
    "        # If start and end have not crossed each other,\n",
    "        # swap the numbers on start and end\n",
    "        if(start < end):\n",
    "            array[start], array[end] = array[end], array[start]\n",
    "     \n",
    "    # Swap pivot element with element on end pointer.\n",
    "    # This puts pivot on its correct sorted place.\n",
    "    array[end], array[pivot_index] = array[pivot_index], array[end]\n",
    "    \n",
    "    # Returning end pointer to divide the array into 2\n",
    "    return end\n",
    "     \n",
    "# The main function that implements QuickSort\n",
    "def quick_sort(start, end, array):\n",
    "     \n",
    "    if (start < end):\n",
    "        # p is partitioning index, array[p]\n",
    "        # is at right place\n",
    "        p = partition(start, end, array)\n",
    "         \n",
    "        # Sort elements before partition\n",
    "        # and after partition\n",
    "        quick_sort(start, p - 1, array)\n",
    "        quick_sort(p + 1, end, array)"
   ]
  },
  {
   "cell_type": "code",
   "execution_count": 7,
   "id": "efa8c82f",
   "metadata": {},
   "outputs": [],
   "source": [
    "array = [10, 7, 8, 9, 1, 5]"
   ]
  },
  {
   "cell_type": "code",
   "execution_count": 8,
   "id": "384d761b",
   "metadata": {},
   "outputs": [
    {
     "data": {
      "text/plain": [
       "5"
      ]
     },
     "execution_count": 8,
     "metadata": {},
     "output_type": "execute_result"
    }
   ],
   "source": [
    "partition(0, len(array) - 1, array)"
   ]
  },
  {
   "cell_type": "code",
   "execution_count": null,
   "id": "b9d7b110",
   "metadata": {},
   "outputs": [],
   "source": []
  },
  {
   "cell_type": "code",
   "execution_count": 9,
   "id": "1ca246c0",
   "metadata": {},
   "outputs": [
    {
     "data": {
      "text/plain": [
       "[5, 7, 8, 9, 1, 10]"
      ]
     },
     "execution_count": 9,
     "metadata": {},
     "output_type": "execute_result"
    }
   ],
   "source": [
    "array"
   ]
  },
  {
   "cell_type": "code",
   "execution_count": null,
   "id": "0a84f4d1",
   "metadata": {},
   "outputs": [],
   "source": []
  },
  {
   "cell_type": "code",
   "execution_count": null,
   "id": "38a6f7a8",
   "metadata": {},
   "outputs": [],
   "source": [
    "quick_sort(0, len(array) - 1, array)"
   ]
  },
  {
   "cell_type": "code",
   "execution_count": 5,
   "id": "b0e93ee2",
   "metadata": {},
   "outputs": [
    {
     "data": {
      "text/plain": [
       "[1, 5, 7, 8, 9, 10]"
      ]
     },
     "execution_count": 5,
     "metadata": {},
     "output_type": "execute_result"
    }
   ],
   "source": [
    "array"
   ]
  },
  {
   "cell_type": "code",
   "execution_count": null,
   "id": "1a9c95e1",
   "metadata": {},
   "outputs": [],
   "source": []
  },
  {
   "cell_type": "code",
   "execution_count": 7,
   "id": "d0ba7cd5",
   "metadata": {},
   "outputs": [],
   "source": [
    "n=3\n",
    "x = [[1,2,3],[4,5,6],[7,8,9]]"
   ]
  },
  {
   "cell_type": "code",
   "execution_count": 21,
   "id": "05def4b8",
   "metadata": {},
   "outputs": [],
   "source": [
    "n=2\n",
    "x = [[4,3],[1,4]]"
   ]
  },
  {
   "cell_type": "code",
   "execution_count": 22,
   "id": "cd847c8c",
   "metadata": {
    "scrolled": true
   },
   "outputs": [
    {
     "name": "stdout",
     "output_type": "stream",
     "text": [
      "4 0 0\n",
      "0 0\n",
      "0 1\n",
      "1 0\n",
      "1 1\n",
      "\n",
      "\n",
      "3 0 1\n",
      "0 1\n",
      "1 1\n",
      "\n",
      "\n",
      "1 1 0\n",
      "1 0\n",
      "1 1\n",
      "\n",
      "\n",
      "4 1 1\n",
      "1 1\n",
      "\n",
      "\n",
      "2\n"
     ]
    }
   ],
   "source": [
    "count=0\n",
    "for i in range(n):\n",
    "    for j in range(n):\n",
    "        fix = x[i][j]\n",
    "        print(fix,i,j)\n",
    "        for k in range(n):\n",
    "            if k>=i:\n",
    "                for l in range(n):\n",
    "                    if l>=j:\n",
    "                        if fix > x[k][l]:\n",
    "                            count+=1\n",
    "                        else:\n",
    "                            pass\n",
    "                        print(k,l)\n",
    "                    else:\n",
    "                        pass\n",
    "            else:\n",
    "                pass\n",
    "        print('\\n')\n",
    "print(count)        "
   ]
  },
  {
   "cell_type": "code",
   "execution_count": null,
   "id": "8becbf66",
   "metadata": {},
   "outputs": [],
   "source": []
  },
  {
   "cell_type": "code",
   "execution_count": 31,
   "id": "b9dbdd2c",
   "metadata": {
    "scrolled": true
   },
   "outputs": [
    {
     "data": {
      "text/plain": [
       "[1, 2, 3]"
      ]
     },
     "execution_count": 31,
     "metadata": {},
     "output_type": "execute_result"
    }
   ],
   "source": [
    "list(map(lambda x: int(x),'1 2 3'.split(' ')))"
   ]
  },
  {
   "cell_type": "code",
   "execution_count": null,
   "id": "d9acaa35",
   "metadata": {},
   "outputs": [],
   "source": []
  },
  {
   "cell_type": "code",
   "execution_count": 35,
   "id": "86cee9d8",
   "metadata": {},
   "outputs": [
    {
     "data": {
      "text/plain": [
       "['10101']"
      ]
     },
     "execution_count": 35,
     "metadata": {},
     "output_type": "execute_result"
    }
   ],
   "source": [
    "'10101'.split()"
   ]
  },
  {
   "cell_type": "code",
   "execution_count": 137,
   "id": "bfbd9500",
   "metadata": {},
   "outputs": [],
   "source": []
  },
  {
   "cell_type": "code",
   "execution_count": 138,
   "id": "012d283b",
   "metadata": {
    "scrolled": true
   },
   "outputs": [],
   "source": [
    "def addup(ele):\n",
    "    data=0\n",
    "    n = len(ele)-1\n",
    "    for i in ele:\n",
    "        data += int(i)*(2**n)\n",
    "        n-=1\n",
    "    return(data)\n",
    "\n",
    "def shifting(val,shift):\n",
    "    z=[]\n",
    "    n=len(val)\n",
    "    l = shift%n\n",
    "    for i in range(l,n):\n",
    "        z.append(val[i])\n",
    "    for j in range(l):\n",
    "        z.append(val[j])\n",
    "    return(''.join(z))"
   ]
  },
  {
   "cell_type": "code",
   "execution_count": 139,
   "id": "3947e161",
   "metadata": {},
   "outputs": [
    {
     "name": "stdout",
     "output_type": "stream",
     "text": [
      "0 {'10101': 21}\n",
      "1 {'10101': 21, '01011': 11}\n",
      "2 {'10101': 21, '01011': 11, '10110': 22}\n",
      "3 {'10101': 21, '01011': 11, '10110': 22, '01101': 13}\n",
      "4 {'10101': 21, '01011': 11, '10110': 22, '01101': 13, '11010': 26}\n"
     ]
    }
   ],
   "source": [
    "x={}\n",
    "for k in range(len(val)):\n",
    "    \n",
    "    x.update({shifting(val,k):addup(shifting(val,k))})\n",
    "    print(k, x)"
   ]
  },
  {
   "cell_type": "code",
   "execution_count": 182,
   "id": "56f9d720",
   "metadata": {},
   "outputs": [],
   "source": [
    "val = '010101'\n",
    "n = len(val)"
   ]
  },
  {
   "cell_type": "code",
   "execution_count": 183,
   "id": "6f558ba2",
   "metadata": {},
   "outputs": [],
   "source": [
    "max_ = ''\n",
    "x=[]\n",
    "for i in range(n):\n",
    "    val = val[1:]+val[:1]\n",
    "    if val > max_:\n",
    "        max_ = val\n",
    "        pos = i+1\n",
    "    x.append(val)"
   ]
  },
  {
   "cell_type": "code",
   "execution_count": 184,
   "id": "25bd01b5",
   "metadata": {
    "scrolled": true
   },
   "outputs": [
    {
     "data": {
      "text/plain": [
       "['101010', '010101', '101010', '010101', '101010', '010101']"
      ]
     },
     "execution_count": 184,
     "metadata": {},
     "output_type": "execute_result"
    }
   ],
   "source": [
    "x"
   ]
  },
  {
   "cell_type": "code",
   "execution_count": 186,
   "id": "4860052b",
   "metadata": {},
   "outputs": [
    {
     "data": {
      "text/plain": [
       "{'010101', '101010'}"
      ]
     },
     "execution_count": 186,
     "metadata": {},
     "output_type": "execute_result"
    }
   ],
   "source": [
    "set(x)"
   ]
  },
  {
   "cell_type": "code",
   "execution_count": 185,
   "id": "c9d790f2",
   "metadata": {},
   "outputs": [
    {
     "data": {
      "text/plain": [
       "2"
      ]
     },
     "execution_count": 185,
     "metadata": {},
     "output_type": "execute_result"
    }
   ],
   "source": [
    "len(set(x))"
   ]
  },
  {
   "cell_type": "code",
   "execution_count": 181,
   "id": "92e64e58",
   "metadata": {},
   "outputs": [
    {
     "data": {
      "text/plain": [
       "4"
      ]
     },
     "execution_count": 181,
     "metadata": {},
     "output_type": "execute_result"
    }
   ],
   "source": [
    "pos"
   ]
  },
  {
   "cell_type": "code",
   "execution_count": null,
   "id": "cef41ca1",
   "metadata": {},
   "outputs": [],
   "source": []
  },
  {
   "cell_type": "code",
   "execution_count": 169,
   "id": "9f7acfa5",
   "metadata": {},
   "outputs": [
    {
     "data": {
      "text/plain": [
       "3"
      ]
     },
     "execution_count": 169,
     "metadata": {},
     "output_type": "execute_result"
    }
   ],
   "source": [
    "pos"
   ]
  },
  {
   "cell_type": "code",
   "execution_count": 160,
   "id": "60b35902",
   "metadata": {},
   "outputs": [
    {
     "name": "stdout",
     "output_type": "stream",
     "text": [
      "101011\n",
      "01010\n",
      "1011\n",
      "010\n",
      "11\n"
     ]
    }
   ],
   "source": [
    "for k in range(len(val)):\n",
    "    print(val[k%5:5]+val[k%5])"
   ]
  },
  {
   "cell_type": "code",
   "execution_count": 151,
   "id": "b9cb46c8",
   "metadata": {},
   "outputs": [
    {
     "data": {
      "text/plain": [
       "'1'"
      ]
     },
     "execution_count": 151,
     "metadata": {},
     "output_type": "execute_result"
    }
   ],
   "source": [
    "val[:1]"
   ]
  },
  {
   "cell_type": "code",
   "execution_count": 152,
   "id": "61ef54ea",
   "metadata": {},
   "outputs": [
    {
     "data": {
      "text/plain": [
       "'0101'"
      ]
     },
     "execution_count": 152,
     "metadata": {},
     "output_type": "execute_result"
    }
   ],
   "source": [
    "val[1:]"
   ]
  },
  {
   "cell_type": "code",
   "execution_count": null,
   "id": "c3cae643",
   "metadata": {},
   "outputs": [],
   "source": []
  },
  {
   "cell_type": "code",
   "execution_count": 140,
   "id": "a9aa8bd4",
   "metadata": {},
   "outputs": [
    {
     "data": {
      "text/plain": [
       "5"
      ]
     },
     "execution_count": 140,
     "metadata": {},
     "output_type": "execute_result"
    }
   ],
   "source": [
    "len(x)"
   ]
  },
  {
   "cell_type": "code",
   "execution_count": 141,
   "id": "0d8cc7d6",
   "metadata": {},
   "outputs": [
    {
     "data": {
      "text/plain": [
       "4"
      ]
     },
     "execution_count": 141,
     "metadata": {},
     "output_type": "execute_result"
    }
   ],
   "source": [
    "k"
   ]
  },
  {
   "cell_type": "code",
   "execution_count": 142,
   "id": "fe463052",
   "metadata": {},
   "outputs": [
    {
     "data": {
      "text/plain": [
       "{'10101': 21, '01011': 11, '10110': 22, '01101': 13, '11010': 26}"
      ]
     },
     "execution_count": 142,
     "metadata": {},
     "output_type": "execute_result"
    }
   ],
   "source": [
    "x"
   ]
  },
  {
   "cell_type": "code",
   "execution_count": 134,
   "id": "f32eb033",
   "metadata": {},
   "outputs": [
    {
     "name": "stdout",
     "output_type": "stream",
     "text": [
      "1\n"
     ]
    }
   ],
   "source": [
    "cnt = 0\n",
    "for y in x.keys():\n",
    "    if y == max(x.items())[0]:\n",
    "        print(cnt)\n",
    "        break\n",
    "    else:\n",
    "        cnt+=1"
   ]
  },
  {
   "cell_type": "code",
   "execution_count": 116,
   "id": "b82ee390",
   "metadata": {
    "scrolled": true
   },
   "outputs": [],
   "source": [
    "rounds = cnt + (2-1)*len(val)"
   ]
  },
  {
   "cell_type": "code",
   "execution_count": 117,
   "id": "e3ae3464",
   "metadata": {},
   "outputs": [
    {
     "data": {
      "text/plain": [
       "9"
      ]
     },
     "execution_count": 117,
     "metadata": {},
     "output_type": "execute_result"
    }
   ],
   "source": [
    "rounds"
   ]
  },
  {
   "cell_type": "code",
   "execution_count": 145,
   "id": "5002071b",
   "metadata": {},
   "outputs": [
    {
     "data": {
      "text/plain": [
       "['10101', '01011', '10110', '01101', '11010']"
      ]
     },
     "execution_count": 145,
     "metadata": {},
     "output_type": "execute_result"
    }
   ],
   "source": [
    "list(x.keys())"
   ]
  },
  {
   "cell_type": "code",
   "execution_count": 122,
   "id": "4cdaa9da",
   "metadata": {},
   "outputs": [
    {
     "data": {
      "text/plain": [
       "('01011', 11)"
      ]
     },
     "execution_count": 122,
     "metadata": {},
     "output_type": "execute_result"
    }
   ],
   "source": [
    "min(x.items())"
   ]
  },
  {
   "cell_type": "code",
   "execution_count": 146,
   "id": "89e642df",
   "metadata": {},
   "outputs": [],
   "source": [
    "hh = ['10101', '01011', '10110', '01101', '11010']"
   ]
  },
  {
   "cell_type": "code",
   "execution_count": 149,
   "id": "c61b5246",
   "metadata": {},
   "outputs": [
    {
     "data": {
      "text/plain": [
       "'01011'"
      ]
     },
     "execution_count": 149,
     "metadata": {},
     "output_type": "execute_result"
    }
   ],
   "source": [
    "min(hh)"
   ]
  },
  {
   "cell_type": "code",
   "execution_count": 190,
   "id": "1bbc961b",
   "metadata": {},
   "outputs": [
    {
     "data": {
      "text/plain": [
       "1"
      ]
     },
     "execution_count": 190,
     "metadata": {},
     "output_type": "execute_result"
    }
   ],
   "source": [
    "3 ^ 2"
   ]
  },
  {
   "cell_type": "code",
   "execution_count": null,
   "id": "fa772fef",
   "metadata": {},
   "outputs": [],
   "source": []
  },
  {
   "cell_type": "code",
   "execution_count": 193,
   "id": "a975e23a",
   "metadata": {},
   "outputs": [],
   "source": [
    "yu = list(map(lambda x : int(x),'1 2 3 4 5'.split(' ')))"
   ]
  },
  {
   "cell_type": "code",
   "execution_count": 200,
   "id": "71265be4",
   "metadata": {},
   "outputs": [
    {
     "data": {
      "text/plain": [
       "[1, 2, 3, 4, 5]"
      ]
     },
     "execution_count": 200,
     "metadata": {},
     "output_type": "execute_result"
    }
   ],
   "source": [
    "yu"
   ]
  },
  {
   "cell_type": "code",
   "execution_count": 198,
   "id": "be9df080",
   "metadata": {},
   "outputs": [],
   "source": [
    "n=len(yu)"
   ]
  },
  {
   "cell_type": "code",
   "execution_count": 201,
   "id": "4c4b74fe",
   "metadata": {
    "scrolled": false
   },
   "outputs": [
    {
     "name": "stdout",
     "output_type": "stream",
     "text": [
      "1 2\n",
      "1 3\n",
      "1 4\n",
      "1 5\n",
      "2 3\n",
      "2 4\n",
      "2 5\n",
      "3 4\n",
      "3 5\n",
      "4 5\n"
     ]
    }
   ],
   "source": [
    "for i in range(n):\n",
    "    for j in range(i+1,n):\n",
    "        print(yu[i],yu[j])"
   ]
  },
  {
   "cell_type": "code",
   "execution_count": 203,
   "id": "5234863c",
   "metadata": {
    "scrolled": false
   },
   "outputs": [
    {
     "name": "stdout",
     "output_type": "stream",
     "text": [
      "1 2\n",
      "2 3\n",
      "3 4\n",
      "4 5\n"
     ]
    },
    {
     "ename": "IndexError",
     "evalue": "list index out of range",
     "output_type": "error",
     "traceback": [
      "\u001b[1;31m---------------------------------------------------------------------------\u001b[0m",
      "\u001b[1;31mIndexError\u001b[0m                                Traceback (most recent call last)",
      "\u001b[1;32m<ipython-input-203-a8ddb522ffb3>\u001b[0m in \u001b[0;36m<module>\u001b[1;34m\u001b[0m\n\u001b[0;32m      1\u001b[0m \u001b[1;32mfor\u001b[0m \u001b[0mi\u001b[0m \u001b[1;32min\u001b[0m \u001b[0mrange\u001b[0m\u001b[1;33m(\u001b[0m\u001b[1;36m0\u001b[0m\u001b[1;33m,\u001b[0m\u001b[0mn\u001b[0m\u001b[1;33m)\u001b[0m\u001b[1;33m:\u001b[0m\u001b[1;33m\u001b[0m\u001b[1;33m\u001b[0m\u001b[0m\n\u001b[1;32m----> 2\u001b[1;33m     \u001b[0mprint\u001b[0m\u001b[1;33m(\u001b[0m\u001b[0myu\u001b[0m\u001b[1;33m[\u001b[0m\u001b[0mi\u001b[0m\u001b[1;33m]\u001b[0m\u001b[1;33m,\u001b[0m\u001b[0myu\u001b[0m\u001b[1;33m[\u001b[0m\u001b[0mi\u001b[0m\u001b[1;33m+\u001b[0m\u001b[1;36m1\u001b[0m\u001b[1;33m]\u001b[0m\u001b[1;33m)\u001b[0m\u001b[1;33m\u001b[0m\u001b[1;33m\u001b[0m\u001b[0m\n\u001b[0m",
      "\u001b[1;31mIndexError\u001b[0m: list index out of range"
     ]
    }
   ],
   "source": [
    "for i in range(0,n):\n",
    "    print(yu[i],yu[i+1])"
   ]
  },
  {
   "cell_type": "code",
   "execution_count": null,
   "id": "3d9c5221",
   "metadata": {},
   "outputs": [],
   "source": []
  }
 ],
 "metadata": {
  "kernelspec": {
   "display_name": "Python 3",
   "language": "python",
   "name": "python3"
  },
  "language_info": {
   "codemirror_mode": {
    "name": "ipython",
    "version": 3
   },
   "file_extension": ".py",
   "mimetype": "text/x-python",
   "name": "python",
   "nbconvert_exporter": "python",
   "pygments_lexer": "ipython3",
   "version": "3.8.8"
  }
 },
 "nbformat": 4,
 "nbformat_minor": 5
}
